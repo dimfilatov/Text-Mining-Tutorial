{
 "cells": [
  {
   "cell_type": "markdown",
   "metadata": {},
   "source": [
    "# INSTALLING TOPICMODELS PACKAGE\n",
    "In addition to common scientific libraries, the tutorial also requires installation of the topicmodels package located at https://github.com/alan-turing-institute/topic-modelling-tools. If you already have Python and pip installed (for example by installing Anaconda per the instructions above), pip install topic-modelling-tools should work."
   ]
  },
  {
   "cell_type": "code",
   "execution_count": 27,
   "metadata": {},
   "outputs": [],
   "source": [
    "import matplotlib\n",
    "import numpy as np\n",
    "import matplotlib.pyplot as plt\n",
    "import pandas as pd\n",
    "import os\n",
    "os.getcwd()\n",
    "os.chdir(\"C:\\\\Python\\\\Lib\\\\site-packages\")\n",
    "import topicmodels"
   ]
  },
  {
   "cell_type": "code",
   "execution_count": 28,
   "metadata": {},
   "outputs": [],
   "source": [
    "os.getcwd()\n",
    "os.chdir(\"C:\\\\Users\\\\39338\")\n",
    "data = pd.read_csv(\"fomc_minutes.txt\", encoding=\"utf-8\", sep=\"\\t\", error_bad_lines=False,warn_bad_lines = False)"
   ]
  },
  {
   "cell_type": "markdown",
   "metadata": {},
   "source": [
    "# Pre-processing the text"
   ]
  },
  {
   "cell_type": "code",
   "execution_count": 29,
   "metadata": {},
   "outputs": [
    {
     "data": {
      "text/plain": [
       "(7890, 2)"
      ]
     },
     "execution_count": 29,
     "metadata": {},
     "output_type": "execute_result"
    }
   ],
   "source": [
    "data.shape"
   ]
  },
  {
   "cell_type": "code",
   "execution_count": 30,
   "metadata": {},
   "outputs": [],
   "source": [
    "docsobj = topicmodels.RawDocs(data.minutes, \"long\") # creates object for pre-processing"
   ]
  },
  {
   "cell_type": "code",
   "execution_count": 31,
   "metadata": {},
   "outputs": [
    {
     "data": {
      "text/plain": [
       "['payroll',\n",
       " 'employment',\n",
       " 'rose',\n",
       " 'further',\n",
       " 'in',\n",
       " 'july',\n",
       " 'after',\n",
       " 'modest',\n",
       " 'second',\n",
       " 'quarter',\n",
       " 'gain',\n",
       " 'the',\n",
       " 'july',\n",
       " 'advance',\n",
       " 'was',\n",
       " 'held',\n",
       " 'down',\n",
       " 'by',\n",
       " 'continuing',\n",
       " 'employment',\n",
       " 'losses',\n",
       " 'in',\n",
       " 'manufacturing',\n",
       " 'that',\n",
       " 'were',\n",
       " 'widespread',\n",
       " 'by',\n",
       " 'industry',\n",
       " 'outside']"
      ]
     },
     "execution_count": 31,
     "metadata": {},
     "output_type": "execute_result"
    }
   ],
   "source": [
    "docsobj.token_clean(1) # Remove all non-alphabetic tokens and all tokens of length one.\n",
    "docsobj.tokens[1][1:30]  # first thirty tokens of second meeting"
   ]
  },
  {
   "cell_type": "code",
   "execution_count": 32,
   "metadata": {},
   "outputs": [
    {
     "name": "stdout",
     "output_type": "stream",
     "text": [
      "number of unique tokens = 7386\n",
      "number of total tokens = 1005269\n"
     ]
    }
   ],
   "source": [
    "all_tokens = [s for d in docsobj.tokens for s in d]\n",
    "print(\"number of unique tokens = %d\" % len(set(all_tokens)))\n",
    "print(\"number of total tokens = %d\" % len(all_tokens))"
   ]
  },
  {
   "cell_type": "code",
   "execution_count": 34,
   "metadata": {},
   "outputs": [
    {
     "data": {
      "text/plain": [
       "{'a',\n",
       " 'about',\n",
       " 'above',\n",
       " 'after',\n",
       " 'again',\n",
       " 'against',\n",
       " 'all',\n",
       " 'also',\n",
       " 'am',\n",
       " 'an',\n",
       " 'and',\n",
       " 'another',\n",
       " 'any',\n",
       " 'are',\n",
       " 'as',\n",
       " 'at',\n",
       " 'back',\n",
       " 'be',\n",
       " 'because',\n",
       " 'been',\n",
       " 'before',\n",
       " 'being',\n",
       " 'below',\n",
       " 'between',\n",
       " 'both',\n",
       " 'but',\n",
       " 'by',\n",
       " 'could',\n",
       " 'did',\n",
       " 'do',\n",
       " 'does',\n",
       " 'doing',\n",
       " 'down',\n",
       " 'during',\n",
       " 'each',\n",
       " 'even',\n",
       " 'ever',\n",
       " 'every',\n",
       " 'few',\n",
       " 'first',\n",
       " 'five',\n",
       " 'for',\n",
       " 'four',\n",
       " 'from',\n",
       " 'further',\n",
       " 'get',\n",
       " 'go',\n",
       " 'goes',\n",
       " 'had',\n",
       " 'has',\n",
       " 'have',\n",
       " 'having',\n",
       " 'he',\n",
       " 'her',\n",
       " 'here',\n",
       " 'hers',\n",
       " 'herself',\n",
       " 'high',\n",
       " 'him',\n",
       " 'himself',\n",
       " 'his',\n",
       " 'how',\n",
       " 'however',\n",
       " 'i',\n",
       " 'if',\n",
       " 'in',\n",
       " 'into',\n",
       " 'is',\n",
       " 'it',\n",
       " 'its',\n",
       " 'itself',\n",
       " 'just',\n",
       " 'least',\n",
       " 'less',\n",
       " 'like',\n",
       " 'long',\n",
       " 'made',\n",
       " 'make',\n",
       " 'many',\n",
       " 'me',\n",
       " 'more',\n",
       " 'most',\n",
       " 'my',\n",
       " 'myself',\n",
       " 'never',\n",
       " 'new',\n",
       " 'no',\n",
       " 'nor',\n",
       " 'not',\n",
       " 'now',\n",
       " 'of',\n",
       " 'off',\n",
       " 'old',\n",
       " 'on',\n",
       " 'once',\n",
       " 'one',\n",
       " 'only',\n",
       " 'or',\n",
       " 'other',\n",
       " 'ought',\n",
       " 'our',\n",
       " 'ours',\n",
       " 'ourselves',\n",
       " 'out',\n",
       " 'over',\n",
       " 'own',\n",
       " 'put',\n",
       " 'said',\n",
       " 'same',\n",
       " 'say',\n",
       " 'says',\n",
       " 'second',\n",
       " 'see',\n",
       " 'seen',\n",
       " 'she',\n",
       " 'should',\n",
       " 'since',\n",
       " 'so',\n",
       " 'some',\n",
       " 'still',\n",
       " 'such',\n",
       " 'take',\n",
       " 'than',\n",
       " 'that',\n",
       " 'the',\n",
       " 'their',\n",
       " 'theirs',\n",
       " 'them',\n",
       " 'themselves',\n",
       " 'then',\n",
       " 'there',\n",
       " 'these',\n",
       " 'they',\n",
       " 'this',\n",
       " 'those',\n",
       " 'three',\n",
       " 'through',\n",
       " 'to',\n",
       " 'too',\n",
       " 'two',\n",
       " 'under',\n",
       " 'until',\n",
       " 'up',\n",
       " 'us',\n",
       " 'very',\n",
       " 'was',\n",
       " 'way',\n",
       " 'we',\n",
       " 'well',\n",
       " 'were',\n",
       " 'what',\n",
       " 'when',\n",
       " 'where',\n",
       " 'whether',\n",
       " 'which',\n",
       " 'while',\n",
       " 'who',\n",
       " 'whom',\n",
       " 'why',\n",
       " 'with',\n",
       " 'would',\n",
       " 'you',\n",
       " 'your',\n",
       " 'yours',\n",
       " 'yourself',\n",
       " 'yourselves'}"
      ]
     },
     "execution_count": 34,
     "metadata": {},
     "output_type": "execute_result"
    }
   ],
   "source": [
    "docsobj.stopwords # the stopwords removed in this example"
   ]
  },
  {
   "cell_type": "code",
   "execution_count": 35,
   "metadata": {},
   "outputs": [],
   "source": [
    "docsobj.stopword_remove(\"tokens\") # the stopwords removed in this example"
   ]
  },
  {
   "cell_type": "code",
   "execution_count": 36,
   "metadata": {},
   "outputs": [
    {
     "name": "stdout",
     "output_type": "stream",
     "text": [
      "number of unique tokens = 7241\n",
      "number of total tokens = 597963\n"
     ]
    }
   ],
   "source": [
    "all_tokens = [s for d in docsobj.tokens for s in d]\n",
    "print(\"number of unique tokens = %d\" % len(set(all_tokens)))\n",
    "print(\"number of total tokens = %d\" % len(all_tokens))"
   ]
  },
  {
   "cell_type": "markdown",
   "metadata": {},
   "source": [
    "Look at the effect on the number of total tokens from removing a relatively small number of unique tokens.\n",
    "\n",
    "The final pre-processing step in this example is stemming, which removes suffixes from words in order to map tokens with different grammatical forms into a single linguistic root."
   ]
  },
  {
   "cell_type": "code",
   "execution_count": 37,
   "metadata": {},
   "outputs": [],
   "source": [
    "docsobj.stem()"
   ]
  },
  {
   "cell_type": "code",
   "execution_count": 38,
   "metadata": {},
   "outputs": [
    {
     "name": "stdout",
     "output_type": "stream",
     "text": [
      "number of unique stems = 4040\n",
      "number of total stems = 597963\n"
     ]
    }
   ],
   "source": [
    "all_stems = [s for d in docsobj.stems for s in d]\n",
    "print(\"number of unique stems = %d\" % len(set(all_stems)))\n",
    "print(\"number of total stems = %d\" % len(all_stems))"
   ]
  },
  {
   "cell_type": "code",
   "execution_count": 39,
   "metadata": {},
   "outputs": [
    {
     "name": "stdout",
     "output_type": "stream",
     "text": [
      "number of unique stems = 4019\n",
      "number of total stems = 594041\n"
     ]
    }
   ],
   "source": [
    "docsobj.stopword_remove(\"stems\") # Keep only unique stems\n",
    "\n",
    "all_stems = [s for d in docsobj.stems for s in d]\n",
    "print(\"number of unique stems = %d\" % len(set(all_stems)))\n",
    "print(\"number of total stems = %d\" % len(all_stems))"
   ]
  },
  {
   "cell_type": "code",
   "execution_count": 41,
   "metadata": {},
   "outputs": [
    {
     "data": {
      "text/plain": [
       "[<matplotlib.lines.Line2D at 0x13f6aa52b00>]"
      ]
     },
     "execution_count": 41,
     "metadata": {},
     "output_type": "execute_result"
    },
    {
     "data": {
      "image/png": "[encoded data removed]",
      "text/plain": [
       "<Figure size 432x288 with 1 Axes>"
      ]
     },
     "metadata": {
      "needs_background": "light"
     },
     "output_type": "display_data"
    }
   ],
   "source": [
    "docsobj.term_rank(\"stems\")\n",
    "\n",
    "#We have already dropped standard stopwords, but there may also be data-dependent common words\n",
    "plt.plot([x[1] for x in docsobj.tfidf_ranking])\n",
    "#plt.plot([x[1] for x in docsobj.df_ranking])"
   ]
  },
  {
   "cell_type": "code",
   "execution_count": 45,
   "metadata": {},
   "outputs": [],
   "source": [
    "docsobj.rank_remove(\"tfidf\",\"stems\",docsobj.tfidf_ranking[2500][1]) # remove low rank stems"
   ]
  },
  {
   "cell_type": "code",
   "execution_count": 46,
   "metadata": {},
   "outputs": [
    {
     "name": "stdout",
     "output_type": "stream",
     "text": [
      "number of unique stems = 2500\n",
      "number of total stems = 296372\n"
     ]
    }
   ],
   "source": [
    "all_stems = [s for d in docsobj.stems for s in d]\n",
    "print(\"number of unique stems = %d\" % len(set(all_stems)))\n",
    "print(\"number of total stems = %d\" % len(all_stems))"
   ]
  },
  {
   "cell_type": "markdown",
   "metadata": {},
   "source": [
    "# Estimate Topic Model by LDA algorithm"
   ]
  },
  {
   "cell_type": "code",
   "execution_count": 48,
   "metadata": {},
   "outputs": [
    {
     "name": "stdout",
     "output_type": "stream",
     "text": [
      "30\n",
      "1.6666666666666667\n",
      "0.08\n"
     ]
    }
   ],
   "source": [
    "ldaobj = topicmodels.LDA.LDAGibbs(docsobj.stems,30) #Specify the number of topics in the text\n",
    "print(ldaobj.K) # number of topic, user defined.\n",
    "print(ldaobj.alpha) # hyperparameter for document-topic distribution, automatically defined\n",
    "print(ldaobj.beta) # hyperparameter for topics, automatically defined"
   ]
  },
  {
   "cell_type": "code",
   "execution_count": 49,
   "metadata": {},
   "outputs": [
    {
     "name": "stdout",
     "output_type": "stream",
     "text": [
      "Iteration 10 of (collapsed) Gibbs sampling\n",
      "Iteration 20 of (collapsed) Gibbs sampling\n",
      "Iteration 30 of (collapsed) Gibbs sampling\n",
      "Iteration 40 of (collapsed) Gibbs sampling\n",
      "Iteration 50 of (collapsed) Gibbs sampling\n",
      "Iteration 60 of (collapsed) Gibbs sampling\n",
      "Iteration 70 of (collapsed) Gibbs sampling\n",
      "Iteration 80 of (collapsed) Gibbs sampling\n",
      "Iteration 90 of (collapsed) Gibbs sampling\n",
      "Iteration 100 of (collapsed) Gibbs sampling\n",
      "Iteration 110 of (collapsed) Gibbs sampling\n",
      "Iteration 120 of (collapsed) Gibbs sampling\n",
      "Iteration 130 of (collapsed) Gibbs sampling\n",
      "Iteration 140 of (collapsed) Gibbs sampling\n",
      "Iteration 150 of (collapsed) Gibbs sampling\n",
      "Iteration 160 of (collapsed) Gibbs sampling\n",
      "Iteration 170 of (collapsed) Gibbs sampling\n",
      "Iteration 180 of (collapsed) Gibbs sampling\n",
      "Iteration 190 of (collapsed) Gibbs sampling\n",
      "Iteration 200 of (collapsed) Gibbs sampling\n",
      "Iteration 210 of (collapsed) Gibbs sampling\n",
      "Iteration 220 of (collapsed) Gibbs sampling\n",
      "Iteration 230 of (collapsed) Gibbs sampling\n",
      "Iteration 240 of (collapsed) Gibbs sampling\n",
      "Iteration 250 of (collapsed) Gibbs sampling\n",
      "Iteration 260 of (collapsed) Gibbs sampling\n",
      "Iteration 270 of (collapsed) Gibbs sampling\n",
      "Iteration 280 of (collapsed) Gibbs sampling\n",
      "Iteration 290 of (collapsed) Gibbs sampling\n",
      "Iteration 300 of (collapsed) Gibbs sampling\n",
      "Iteration 310 of (collapsed) Gibbs sampling\n",
      "Iteration 320 of (collapsed) Gibbs sampling\n",
      "Iteration 330 of (collapsed) Gibbs sampling\n",
      "Iteration 340 of (collapsed) Gibbs sampling\n",
      "Iteration 350 of (collapsed) Gibbs sampling\n",
      "Iteration 360 of (collapsed) Gibbs sampling\n",
      "Iteration 370 of (collapsed) Gibbs sampling\n",
      "Iteration 380 of (collapsed) Gibbs sampling\n",
      "Iteration 390 of (collapsed) Gibbs sampling\n",
      "Iteration 400 of (collapsed) Gibbs sampling\n",
      "Iteration 410 of (collapsed) Gibbs sampling\n",
      "Iteration 420 of (collapsed) Gibbs sampling\n",
      "Iteration 430 of (collapsed) Gibbs sampling\n",
      "Iteration 440 of (collapsed) Gibbs sampling\n",
      "Iteration 450 of (collapsed) Gibbs sampling\n",
      "Iteration 460 of (collapsed) Gibbs sampling\n",
      "Iteration 470 of (collapsed) Gibbs sampling\n",
      "Iteration 480 of (collapsed) Gibbs sampling\n",
      "Iteration 490 of (collapsed) Gibbs sampling\n",
      "Iteration 500 of (collapsed) Gibbs sampling\n",
      "Iteration 510 of (collapsed) Gibbs sampling\n",
      "Iteration 520 of (collapsed) Gibbs sampling\n",
      "Iteration 530 of (collapsed) Gibbs sampling\n",
      "Iteration 540 of (collapsed) Gibbs sampling\n",
      "Iteration 550 of (collapsed) Gibbs sampling\n",
      "Iteration 560 of (collapsed) Gibbs sampling\n",
      "Iteration 570 of (collapsed) Gibbs sampling\n",
      "Iteration 580 of (collapsed) Gibbs sampling\n",
      "Iteration 590 of (collapsed) Gibbs sampling\n",
      "Iteration 600 of (collapsed) Gibbs sampling\n",
      "Iteration 610 of (collapsed) Gibbs sampling\n",
      "Iteration 620 of (collapsed) Gibbs sampling\n",
      "Iteration 630 of (collapsed) Gibbs sampling\n",
      "Iteration 640 of (collapsed) Gibbs sampling\n",
      "Iteration 650 of (collapsed) Gibbs sampling\n",
      "Iteration 660 of (collapsed) Gibbs sampling\n",
      "Iteration 670 of (collapsed) Gibbs sampling\n",
      "Iteration 680 of (collapsed) Gibbs sampling\n",
      "Iteration 690 of (collapsed) Gibbs sampling\n",
      "Iteration 700 of (collapsed) Gibbs sampling\n",
      "Iteration 710 of (collapsed) Gibbs sampling\n",
      "Iteration 720 of (collapsed) Gibbs sampling\n",
      "Iteration 730 of (collapsed) Gibbs sampling\n",
      "Iteration 740 of (collapsed) Gibbs sampling\n",
      "Iteration 750 of (collapsed) Gibbs sampling\n",
      "Iteration 760 of (collapsed) Gibbs sampling\n",
      "Iteration 770 of (collapsed) Gibbs sampling\n",
      "Iteration 780 of (collapsed) Gibbs sampling\n",
      "Iteration 790 of (collapsed) Gibbs sampling\n",
      "Iteration 800 of (collapsed) Gibbs sampling\n",
      "Iteration 810 of (collapsed) Gibbs sampling\n",
      "Iteration 820 of (collapsed) Gibbs sampling\n",
      "Iteration 830 of (collapsed) Gibbs sampling\n",
      "Iteration 840 of (collapsed) Gibbs sampling\n",
      "Iteration 850 of (collapsed) Gibbs sampling\n",
      "Iteration 860 of (collapsed) Gibbs sampling\n",
      "Iteration 870 of (collapsed) Gibbs sampling\n",
      "Iteration 880 of (collapsed) Gibbs sampling\n",
      "Iteration 890 of (collapsed) Gibbs sampling\n",
      "Iteration 900 of (collapsed) Gibbs sampling\n",
      "Iteration 910 of (collapsed) Gibbs sampling\n",
      "Iteration 920 of (collapsed) Gibbs sampling\n",
      "Iteration 930 of (collapsed) Gibbs sampling\n",
      "Iteration 940 of (collapsed) Gibbs sampling\n",
      "Iteration 950 of (collapsed) Gibbs sampling\n",
      "Iteration 960 of (collapsed) Gibbs sampling\n",
      "Iteration 970 of (collapsed) Gibbs sampling\n",
      "Iteration 980 of (collapsed) Gibbs sampling\n",
      "Iteration 990 of (collapsed) Gibbs sampling\n",
      "Iteration 1000 of (collapsed) Gibbs sampling\n",
      "Iteration 1010 of (collapsed) Gibbs sampling\n",
      "Iteration 1020 of (collapsed) Gibbs sampling\n",
      "Iteration 1030 of (collapsed) Gibbs sampling\n",
      "Iteration 1040 of (collapsed) Gibbs sampling\n",
      "Iteration 1050 of (collapsed) Gibbs sampling\n",
      "Iteration 1060 of (collapsed) Gibbs sampling\n",
      "Iteration 1070 of (collapsed) Gibbs sampling\n",
      "Iteration 1080 of (collapsed) Gibbs sampling\n",
      "Iteration 1090 of (collapsed) Gibbs sampling\n",
      "Iteration 1100 of (collapsed) Gibbs sampling\n",
      "Iteration 1110 of (collapsed) Gibbs sampling\n",
      "Iteration 1120 of (collapsed) Gibbs sampling\n",
      "Iteration 1130 of (collapsed) Gibbs sampling\n",
      "Iteration 1140 of (collapsed) Gibbs sampling\n",
      "Iteration 1150 of (collapsed) Gibbs sampling\n",
      "Iteration 1160 of (collapsed) Gibbs sampling\n",
      "Iteration 1170 of (collapsed) Gibbs sampling\n",
      "Iteration 1180 of (collapsed) Gibbs sampling\n",
      "Iteration 1190 of (collapsed) Gibbs sampling\n",
      "Iteration 1200 of (collapsed) Gibbs sampling\n",
      "Iteration 1210 of (collapsed) Gibbs sampling\n",
      "Iteration 1220 of (collapsed) Gibbs sampling\n",
      "Iteration 1230 of (collapsed) Gibbs sampling\n",
      "Iteration 1240 of (collapsed) Gibbs sampling\n",
      "Iteration 1250 of (collapsed) Gibbs sampling\n",
      "Iteration 1260 of (collapsed) Gibbs sampling\n",
      "Iteration 1270 of (collapsed) Gibbs sampling\n",
      "Iteration 1280 of (collapsed) Gibbs sampling\n",
      "Iteration 1290 of (collapsed) Gibbs sampling\n",
      "Iteration 1300 of (collapsed) Gibbs sampling\n",
      "Iteration 1310 of (collapsed) Gibbs sampling\n",
      "Iteration 1320 of (collapsed) Gibbs sampling\n",
      "Iteration 1330 of (collapsed) Gibbs sampling\n",
      "Iteration 1340 of (collapsed) Gibbs sampling\n",
      "Iteration 1350 of (collapsed) Gibbs sampling\n",
      "Iteration 1360 of (collapsed) Gibbs sampling\n",
      "Iteration 1370 of (collapsed) Gibbs sampling\n",
      "Iteration 1380 of (collapsed) Gibbs sampling\n",
      "Iteration 1390 of (collapsed) Gibbs sampling\n",
      "Iteration 1400 of (collapsed) Gibbs sampling\n",
      "Iteration 1410 of (collapsed) Gibbs sampling\n",
      "Iteration 1420 of (collapsed) Gibbs sampling\n",
      "Iteration 1430 of (collapsed) Gibbs sampling\n",
      "Iteration 1440 of (collapsed) Gibbs sampling\n",
      "Iteration 1450 of (collapsed) Gibbs sampling\n",
      "Iteration 1460 of (collapsed) Gibbs sampling\n",
      "Iteration 1470 of (collapsed) Gibbs sampling\n",
      "Iteration 1480 of (collapsed) Gibbs sampling\n",
      "Iteration 1490 of (collapsed) Gibbs sampling\n",
      "Iteration 1500 of (collapsed) Gibbs sampling\n",
      "Iteration 1510 of (collapsed) Gibbs sampling\n",
      "Iteration 1520 of (collapsed) Gibbs sampling\n",
      "Iteration 1530 of (collapsed) Gibbs sampling\n",
      "Iteration 1540 of (collapsed) Gibbs sampling\n",
      "Iteration 1550 of (collapsed) Gibbs sampling\n",
      "Iteration 1560 of (collapsed) Gibbs sampling\n",
      "Iteration 1570 of (collapsed) Gibbs sampling\n",
      "Iteration 1580 of (collapsed) Gibbs sampling\n",
      "Iteration 1590 of (collapsed) Gibbs sampling\n",
      "Iteration 1600 of (collapsed) Gibbs sampling\n",
      "Iteration 1610 of (collapsed) Gibbs sampling\n",
      "Iteration 1620 of (collapsed) Gibbs sampling\n",
      "Iteration 1630 of (collapsed) Gibbs sampling\n",
      "Iteration 1640 of (collapsed) Gibbs sampling\n",
      "Iteration 1650 of (collapsed) Gibbs sampling\n",
      "Iteration 1660 of (collapsed) Gibbs sampling\n",
      "Iteration 1670 of (collapsed) Gibbs sampling\n",
      "Iteration 1680 of (collapsed) Gibbs sampling\n",
      "Iteration 1690 of (collapsed) Gibbs sampling\n",
      "Iteration 1700 of (collapsed) Gibbs sampling\n",
      "Iteration 1710 of (collapsed) Gibbs sampling\n",
      "Iteration 1720 of (collapsed) Gibbs sampling\n",
      "Iteration 1730 of (collapsed) Gibbs sampling\n",
      "Iteration 1740 of (collapsed) Gibbs sampling\n",
      "Iteration 1750 of (collapsed) Gibbs sampling\n",
      "Iteration 1760 of (collapsed) Gibbs sampling\n",
      "Iteration 1770 of (collapsed) Gibbs sampling\n",
      "Iteration 1780 of (collapsed) Gibbs sampling\n",
      "Iteration 1790 of (collapsed) Gibbs sampling\n",
      "Iteration 1800 of (collapsed) Gibbs sampling\n",
      "Iteration 1810 of (collapsed) Gibbs sampling\n",
      "Iteration 1820 of (collapsed) Gibbs sampling\n",
      "Iteration 1830 of (collapsed) Gibbs sampling\n",
      "Iteration 1840 of (collapsed) Gibbs sampling\n",
      "Iteration 1850 of (collapsed) Gibbs sampling\n",
      "Iteration 1860 of (collapsed) Gibbs sampling\n",
      "Iteration 1870 of (collapsed) Gibbs sampling\n",
      "Iteration 1880 of (collapsed) Gibbs sampling\n",
      "Iteration 1890 of (collapsed) Gibbs sampling\n",
      "Iteration 1900 of (collapsed) Gibbs sampling\n",
      "Iteration 1910 of (collapsed) Gibbs sampling\n",
      "Iteration 1920 of (collapsed) Gibbs sampling\n",
      "Iteration 1930 of (collapsed) Gibbs sampling\n",
      "Iteration 1940 of (collapsed) Gibbs sampling\n",
      "Iteration 1950 of (collapsed) Gibbs sampling\n",
      "Iteration 1960 of (collapsed) Gibbs sampling\n",
      "Iteration 1970 of (collapsed) Gibbs sampling\n",
      "Iteration 1980 of (collapsed) Gibbs sampling\n",
      "Iteration 1990 of (collapsed) Gibbs sampling\n",
      "Iteration 2000 of (collapsed) Gibbs sampling\n",
      "Iteration 2010 of (collapsed) Gibbs sampling\n",
      "Iteration 2020 of (collapsed) Gibbs sampling\n",
      "Iteration 2030 of (collapsed) Gibbs sampling\n",
      "Iteration 2040 of (collapsed) Gibbs sampling\n",
      "Iteration 2050 of (collapsed) Gibbs sampling\n",
      "Iteration 2060 of (collapsed) Gibbs sampling\n",
      "Iteration 2070 of (collapsed) Gibbs sampling\n",
      "Iteration 2080 of (collapsed) Gibbs sampling\n",
      "Iteration 2090 of (collapsed) Gibbs sampling\n",
      "Iteration 2100 of (collapsed) Gibbs sampling\n",
      "Iteration 2110 of (collapsed) Gibbs sampling\n",
      "Iteration 2120 of (collapsed) Gibbs sampling\n",
      "Iteration 2130 of (collapsed) Gibbs sampling\n",
      "Iteration 2140 of (collapsed) Gibbs sampling\n",
      "Iteration 2150 of (collapsed) Gibbs sampling\n",
      "Iteration 2160 of (collapsed) Gibbs sampling\n",
      "Iteration 2170 of (collapsed) Gibbs sampling\n",
      "Iteration 2180 of (collapsed) Gibbs sampling\n",
      "Iteration 2190 of (collapsed) Gibbs sampling\n",
      "Iteration 2200 of (collapsed) Gibbs sampling\n",
      "Iteration 2210 of (collapsed) Gibbs sampling\n",
      "Iteration 2220 of (collapsed) Gibbs sampling\n",
      "Iteration 2230 of (collapsed) Gibbs sampling\n",
      "Iteration 2240 of (collapsed) Gibbs sampling\n",
      "Iteration 2250 of (collapsed) Gibbs sampling\n",
      "Iteration 2260 of (collapsed) Gibbs sampling\n",
      "Iteration 2270 of (collapsed) Gibbs sampling\n",
      "Iteration 2280 of (collapsed) Gibbs sampling\n",
      "Iteration 2290 of (collapsed) Gibbs sampling\n",
      "Iteration 2300 of (collapsed) Gibbs sampling\n",
      "Iteration 2310 of (collapsed) Gibbs sampling\n",
      "Iteration 2320 of (collapsed) Gibbs sampling\n",
      "Iteration 2330 of (collapsed) Gibbs sampling\n",
      "Iteration 2340 of (collapsed) Gibbs sampling\n",
      "Iteration 2350 of (collapsed) Gibbs sampling\n",
      "Iteration 2360 of (collapsed) Gibbs sampling\n",
      "Iteration 2370 of (collapsed) Gibbs sampling\n",
      "Iteration 2380 of (collapsed) Gibbs sampling\n",
      "Iteration 2390 of (collapsed) Gibbs sampling\n",
      "Iteration 2400 of (collapsed) Gibbs sampling\n",
      "Iteration 2410 of (collapsed) Gibbs sampling\n",
      "Iteration 2420 of (collapsed) Gibbs sampling\n",
      "Iteration 2430 of (collapsed) Gibbs sampling\n",
      "Iteration 2440 of (collapsed) Gibbs sampling\n",
      "Iteration 2450 of (collapsed) Gibbs sampling\n",
      "Iteration 2460 of (collapsed) Gibbs sampling\n",
      "Iteration 2470 of (collapsed) Gibbs sampling\n",
      "Iteration 2480 of (collapsed) Gibbs sampling\n",
      "Iteration 2490 of (collapsed) Gibbs sampling\n",
      "Iteration 2500 of (collapsed) Gibbs sampling\n",
      "Iteration 2510 of (collapsed) Gibbs sampling\n",
      "Iteration 2520 of (collapsed) Gibbs sampling\n",
      "Iteration 2530 of (collapsed) Gibbs sampling\n",
      "Iteration 2540 of (collapsed) Gibbs sampling\n",
      "Iteration 2550 of (collapsed) Gibbs sampling\n",
      "Iteration 2560 of (collapsed) Gibbs sampling\n",
      "Iteration 2570 of (collapsed) Gibbs sampling\n",
      "Iteration 2580 of (collapsed) Gibbs sampling\n",
      "Iteration 2590 of (collapsed) Gibbs sampling\n",
      "Iteration 2600 of (collapsed) Gibbs sampling\n",
      "Iteration 2610 of (collapsed) Gibbs sampling\n",
      "Iteration 2620 of (collapsed) Gibbs sampling\n",
      "Iteration 2630 of (collapsed) Gibbs sampling\n",
      "Iteration 2640 of (collapsed) Gibbs sampling\n",
      "Iteration 2650 of (collapsed) Gibbs sampling\n",
      "Iteration 2660 of (collapsed) Gibbs sampling\n",
      "Iteration 2670 of (collapsed) Gibbs sampling\n",
      "Iteration 2680 of (collapsed) Gibbs sampling\n",
      "Iteration 2690 of (collapsed) Gibbs sampling\n",
      "Iteration 2700 of (collapsed) Gibbs sampling\n",
      "Iteration 2710 of (collapsed) Gibbs sampling\n",
      "Iteration 2720 of (collapsed) Gibbs sampling\n",
      "Iteration 2730 of (collapsed) Gibbs sampling\n",
      "Iteration 2740 of (collapsed) Gibbs sampling\n",
      "Iteration 2750 of (collapsed) Gibbs sampling\n",
      "Iteration 2760 of (collapsed) Gibbs sampling\n",
      "Iteration 2770 of (collapsed) Gibbs sampling\n",
      "Iteration 2780 of (collapsed) Gibbs sampling\n",
      "Iteration 2790 of (collapsed) Gibbs sampling\n",
      "Iteration 2800 of (collapsed) Gibbs sampling\n",
      "Iteration 2810 of (collapsed) Gibbs sampling\n",
      "Iteration 2820 of (collapsed) Gibbs sampling\n",
      "Iteration 2830 of (collapsed) Gibbs sampling\n",
      "Iteration 2840 of (collapsed) Gibbs sampling\n",
      "Iteration 2850 of (collapsed) Gibbs sampling\n",
      "Iteration 2860 of (collapsed) Gibbs sampling\n",
      "Iteration 2870 of (collapsed) Gibbs sampling\n",
      "Iteration 2880 of (collapsed) Gibbs sampling\n",
      "Iteration 2890 of (collapsed) Gibbs sampling\n",
      "Iteration 2900 of (collapsed) Gibbs sampling\n",
      "Iteration 2910 of (collapsed) Gibbs sampling\n",
      "Iteration 2920 of (collapsed) Gibbs sampling\n",
      "Iteration 2930 of (collapsed) Gibbs sampling\n",
      "Iteration 2940 of (collapsed) Gibbs sampling\n",
      "Iteration 2950 of (collapsed) Gibbs sampling\n",
      "Iteration 2960 of (collapsed) Gibbs sampling\n",
      "Iteration 2970 of (collapsed) Gibbs sampling\n",
      "Iteration 2980 of (collapsed) Gibbs sampling\n",
      "Iteration 2990 of (collapsed) Gibbs sampling\n",
      "Iteration 3000 of (collapsed) Gibbs sampling\n"
     ]
    }
   ],
   "source": [
    "ldaobj.sample(2000, 50, 20) # Run Gibbs sampler"
   ]
  },
  {
   "cell_type": "code",
   "execution_count": 50,
   "metadata": {},
   "outputs": [
    {
     "name": "stdout",
     "output_type": "stream",
     "text": [
      "(2500, 30, 20)\n",
      "(7890, 30, 20)\n"
     ]
    }
   ],
   "source": [
    "ldaobj.perplexity()\n",
    "print(ldaobj.tt.shape)\n",
    "print(ldaobj.dt.shape)\n",
    "ldaobj.topic_content(25, output_file=\"topic_description.csv\")"
   ]
  },
  {
   "cell_type": "code",
   "execution_count": 51,
   "metadata": {},
   "outputs": [
    {
     "name": "stdout",
     "output_type": "stream",
     "text": [
      "Sample 0 queried\n",
      "Sample 1 queried\n",
      "Sample 2 queried\n",
      "Sample 3 queried\n",
      "Sample 4 queried\n",
      "Sample 5 queried\n",
      "Sample 6 queried\n",
      "Sample 7 queried\n",
      "Sample 8 queried\n",
      "Sample 9 queried\n",
      "Sample 10 queried\n",
      "Sample 11 queried\n",
      "Sample 12 queried\n",
      "Sample 13 queried\n",
      "Sample 14 queried\n",
      "Sample 15 queried\n",
      "Sample 16 queried\n",
      "Sample 17 queried\n",
      "Sample 18 queried\n",
      "Sample 19 queried\n"
     ]
    }
   ],
   "source": [
    "# Estimate time series of topics attention\n",
    "# merge all paragraphs into one text\n",
    "data['temp'] = [' '.join(s) for s in docsobj.stems]\n",
    "aggspeeches = data.groupby(['year'])['temp'].apply(lambda x: ' '.join(x))\n",
    "aggdocs = topicmodels.RawDocs(aggspeeches)\n",
    "\n",
    "queryobj = topicmodels.LDA.QueryGibbs(aggdocs.tokens,\n",
    "                                      ldaobj.token_key,\n",
    "                                      ldaobj.tt)\n",
    "queryobj.query(10)\n",
    "queryobj.perplexity()\n",
    "\n",
    "dt_query = queryobj.dt_avg()\n",
    "aggdata = pd.DataFrame(dt_query, index=aggspeeches.index,\n",
    "                       columns=['T' + str(i) for i in range(queryobj.K)])\n",
    "# save time series of topic distribution to csv file\n",
    "aggdata.to_csv(\"final_output_agg.csv\")"
   ]
  },
  {
   "cell_type": "code",
   "execution_count": null,
   "metadata": {},
   "outputs": [],
   "source": []
  }
 ],
 "metadata": {
  "kernelspec": {
   "display_name": "Python 3",
   "language": "python",
   "name": "python3"
  },
  "language_info": {
   "codemirror_mode": {
    "name": "ipython",
    "version": 3
   },
   "file_extension": ".py",
   "mimetype": "text/x-python",
   "name": "python",
   "nbconvert_exporter": "python",
   "pygments_lexer": "ipython3",
   "version": "3.7.3"
  }
 },
 "nbformat": 4,
 "nbformat_minor": 2
}
